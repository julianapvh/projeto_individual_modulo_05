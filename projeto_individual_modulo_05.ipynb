{
  "nbformat": 4,
  "nbformat_minor": 0,
  "metadata": {
    "colab": {
      "provenance": [],
      "authorship_tag": "ABX9TyN3w+9GqD+OwgcogThbNu+O",
      "include_colab_link": true
    },
    "kernelspec": {
      "name": "python3",
      "display_name": "Python 3"
    },
    "language_info": {
      "name": "python"
    }
  },
  "cells": [
    {
      "cell_type": "markdown",
      "metadata": {
        "id": "view-in-github",
        "colab_type": "text"
      },
      "source": [
        "<a href=\"https://colab.research.google.com/github/julianapvh/projeto_individual_modulo_05/blob/main/projeto_individual_modulo_05.ipynb\" target=\"_parent\"><img src=\"https://colab.research.google.com/assets/colab-badge.svg\" alt=\"Open In Colab\"/></a>"
      ]
    },
    {
      "cell_type": "code",
      "source": [
        "from IPython.display import Markdown"
      ],
      "metadata": {
        "id": "mZA2eCbcZFLb"
      },
      "execution_count": 1,
      "outputs": []
    },
    {
      "cell_type": "markdown",
      "source": [
        "# <font color = orange> **_Projeto Individual Módulo 05_**"
      ],
      "metadata": {
        "id": "WFpcytXGVAsu"
      }
    },
    {
      "cell_type": "markdown",
      "source": [
        "# <font color = orange> **_CONTEXTO_**\n",
        "\n",
        "####Você foi contratado como analista de dados e seu chefe, o Chief Marketing Officer (CMO), pediu que você trabalhasse com seu Parceiro de Negócios de Recursos Humanos (HRBP) para entender o que está causando o atrito – pessoas deixando a empresa – em totoda a organização de marketing e apresentar suas descobertas.\n",
        "\n",
        "#### Seu HRBP analisa os dados e envia por e-mail a seguinte visualização:\n",
        "\n",
        "- Razões para saída\n",
        "- Treinamento\n",
        "- Conflito com outros\n",
        "- Falta de reconhecimento\n",
        "- Carga horária\n",
        "- Progressão de carreira\n",
        "- Remuneração\n",
        "- Tipo de trabalho\n",
        "- Mudança de carreira\n",
        "- Trajeto\n",
        "- Realocação\n",
        "- Doença\n",
        "\n",
        "\n",
        "# <font color = orange> **O QUE É PARA FAZER?**\n",
        "\n",
        "####Você deve criar um ou mais dashboards, com o Tableau, identificando as razões de saída dos funcionários da empresa e seus impactos, e indicando possíveis soluções para esses problemas.\n",
        "\n",
        "\n",
        "# <font color = orange> **COMO FAZER?**\n",
        "\n",
        "#### Se familiarize com a ferramenta Tableau e seus recursos-chave, para então realizar a importação e preparação de dados para análise. Siga os passos:\n",
        "\n",
        "- [Os dados para o desenvolvimento do projeto está nesse link](https://docs.google.com/spreadsheets/d/16pyFQ9Bb1moX9I7kbj6Q3Vx9wkeOK7CB/edit#gid=437389207)\n",
        "- Importe o conjunto de dados para o Tableau;\n",
        "- Realize, se necessário, as etapas necessárias de limpeza, transformação e\n",
        "modelagem dos dados para prepará-los para análise;\n",
        "- Utilize recursos gráficos e de visualização do Tableau para criar visualizações\n",
        "interativas que representam os dados de forma clara e informativa;\n",
        "- Crie painéis de controle (dashboards) para acompanhar métricas-chave e\n",
        "identificar insights relevantes;\n",
        "- Crie relatórios interativos e atraentes, incorporando as visualizações e insights\n",
        "obtidos;\n",
        "- Prepare uma narrativa clara e concisa que conte a história dos dados e forneça\n",
        "recomendações e conclusões baseadas nas análises realizadas;\n",
        "- Documente todo o processo de análise e as etapas realizadas.\n",
        "\n",
        "### Requisitos\n",
        "\n",
        "- Utilizar o Tableau.\n",
        "- Realizar a limpeza dos dados, se necessário;\n",
        "- Realizar análise exploratória;\n",
        "- Gerar, no mínimo, três (3) gráficos para a apresentação dos resultados;\n",
        "- Apresentar, no mínimo, dois (2) insights relevantes e conclusões fundamentadas com base\n",
        "nas análises realizadas.\n",
        "- O projeto precisa possuir uma evidência de entrega, ou seja, um pequeno parágrafo com\n",
        "uma explicação do que foi feito no projeto e a defesa das escolhas tomadas.\n",
        "\n",
        "\n",
        "\n",
        "\n",
        "\n",
        "\n",
        "\n",
        "\n",
        "\n"
      ],
      "metadata": {
        "id": "G3FWQK0WVDCw"
      }
    },
    {
      "cell_type": "markdown",
      "source": [
        "# <font color = orange> **_Respondendo as Perguntas_**"
      ],
      "metadata": {
        "id": "AL7RbSCBgVl1"
      }
    },
    {
      "cell_type": "markdown",
      "source": [
        "## <font color = SandyBrown> 1. O que está sendo mostrado aqui? Escreva um texto explicando os dados. Dica: imagine que você precisa explicar esse gráfico para o seu chefe. Escreva sobre como você faria isso em voz alta (fazendo suposições conforme necessário)."
      ],
      "metadata": {
        "id": "m2hlkjAQfy2m"
      }
    },
    {
      "cell_type": "markdown",
      "source": [
        "Este gráfico exibe uma comparação entre várias razões pelas quais os funcionários estão saindo da empresa. Cada razão é representada por uma bolha no gráfico. As bolhas estão posicionadas de acordo com a frequência da razão (eixo vertical) e a capacidade de impacto da razão (eixo horizontal). A capacidade de impacto é atribuída por um HRBP (Business Partner de Recursos Humanos). Assumindo que essa atribuição de capacidade de impacto está relacionada ao impacto percebido da razão na saída dos funcionários, o gráfico visualiza como essas razões se comparam em termos de frequência e impacto."
      ],
      "metadata": {
        "id": "Nbzm7-DNgVII"
      }
    },
    {
      "cell_type": "markdown",
      "source": [
        "## <font color = SandyBrown> 2. Que observações você pode fazer a partir desses dados? Coloque duas conclusões específicas em palavras. Escreva sentenças completas"
      ],
      "metadata": {
        "id": "zjhqBaPIf5Is"
      }
    },
    {
      "cell_type": "markdown",
      "source": [
        "a) Uma razão de saída com alta capacidade de impacto (avaliação 7) é \"Avanço na carreira\", que também é uma das razões mais frequentes (171 saídas).\n",
        "b) A razão \"Falta de reconhecimento\" possui uma alta frequência (44 saídas), mas uma capacidade de impacto moderada (avaliação 9)."
      ],
      "metadata": {
        "id": "8fRwKfkphqte"
      }
    },
    {
      "cell_type": "markdown",
      "source": [
        "## <font color = SandyBrown> 3. O que não é ideal ou poderia ser evitado na visualização em sua forma atual? Que perguntas você faria ou que feedback daria para quem fez o gráfico? Exemplo: suponha que seu HRBP gastou muito tempo criando esse gráfico; como você pode ajustar seu feedback para que ele não se ofenda?"
      ],
      "metadata": {
        "id": "P8c8Jwznf9ol"
      }
    },
    {
      "cell_type": "markdown",
      "source": [
        "A avaliação da \"Capacidade de impacto\" atribuída por um único HRBP pode ser subjetiva e pode variar entre diferentes indivíduos. Isso pode levar a uma análise menos objetiva dos dados. Além disso, a legenda das bolhas pode ser difícil de ler devido à sobreposição."
      ],
      "metadata": {
        "id": "9cKcVfy1gWF-"
      }
    },
    {
      "cell_type": "markdown",
      "source": [
        "##<font color = SandyBrown> 4. Crie três maneiras diferentes de mostrar esses dados e liste quais são algumas vantagens e insuficiências de cada uma."
      ],
      "metadata": {
        "id": "aTBQV77PgGiD"
      }
    },
    {
      "cell_type": "markdown",
      "source": [
        "a) Gráfico de barras empilhadas: Vantagem - Pode visualizar facilmente a distribuição de cada razão de saída; Desvantagem - Dificuldade em comparar a capacidade de impacto.\n",
        "b) Gráfico de dispersão de frequência vs. capacidade de impacto: Vantagem - Pode mostrar claramente como cada razão se compara em termos de frequência e impacto; Desvantagem - Pode ser difícil de ver detalhes quando há muitas razões.\n",
        "c) Gráfico de pizza de razões de saída: Vantagem - Pode destacar a proporção de cada razão em relação ao total; Desvantagem - Não mostra a capacidade de impacto."
      ],
      "metadata": {
        "id": "WQ_uctyQgWnm"
      }
    },
    {
      "cell_type": "markdown",
      "source": [
        "##<font color = SandyBrown> 5. Qual visualização representa melhor os dados e por quê?"
      ],
      "metadata": {
        "id": "RGi7IWcSgGrW"
      }
    },
    {
      "cell_type": "markdown",
      "source": [
        "O gráfico de dispersão de frequência vs. capacidade de impacto representa melhor os dados, pois fornece informações visuais claras sobre como as razões de saída se comparam em termos de frequência e impacto. Ele ajuda a identificar as razões que possuem alta frequência e alto impacto, o que é importante para tomar decisões informadas."
      ],
      "metadata": {
        "id": "h59CNYQ2gXK9"
      }
    },
    {
      "cell_type": "markdown",
      "source": [
        "##<font color = SandyBrown> 6. Como você pode gerar essas informações em uma história orientada por dados para seu chefe? O objetivo é pensar além de mostrar simplesmente dados e mostrar o contexto da história."
      ],
      "metadata": {
        "id": "89WArPbFgGzk"
      }
    },
    {
      "cell_type": "markdown",
      "source": [
        "Para criar uma história impactante baseada nos dados, podemos começar contextualizando a importância de entender por que nossos funcionários estão deixando a empresa. Essa análise pode revelar informações valiosas para aprimorar nossa estratégia de retenção de talentos e melhorar nosso ambiente de trabalho.\n",
        "\n",
        "Primeiramente, vou apresentar um gráfico que traça a relação entre a frequência de saída e a capacidade de impacto de várias razões. Esse gráfico nos mostrará de forma visual quais razões estão mais influenciando nossos funcionários a sair. As razões que estão tanto ocorrendo frequentemente quanto possuem um grande impacto merecem atenção imediata, pois podem estar tendo um efeito significativo em nossa força de trabalho.\n",
        "\n",
        "Ao analisar as observações, uma conclusão importante é que as razões relacionadas ao avanço na carreira e ao reconhecimento parecem estar desempenhando um papel crucial nas saídas. Isso sugere que devemos concentrar nossos esforços em melhorar as oportunidades de crescimento interno e garantir que nosso pessoal se sinta valorizado pelo seu trabalho.\n",
        "\n",
        "Para aprimorar essa visualização, podemos também considerar gráficos de barras ou até mesmo um painel interativo que permita aos gestores explorar os dados de maneira mais detalhada. Isso proporcionaria uma visão mais abrangente das razões de saída em diferentes departamentos ou níveis hierárquicos.\n",
        "\n",
        "No geral, a melhor maneira de transmitir essas informações é criar uma narrativa coesa. Começaremos pela situação atual, destacando os principais desafios que enfrentamos em relação à retenção de talentos. Em seguida, introduziremos as conclusões tiradas dos dados e ofereceremos recomendações concretas para abordar as principais razões de saída. Isso nos permitirá não apenas apresentar os números, mas também fornecer um contexto sólido para embasar nossas ações futuras."
      ],
      "metadata": {
        "id": "71SBEK6DgYG8"
      }
    }
  ]
}