{
  "nbformat": 4,
  "nbformat_minor": 0,
  "metadata": {
    "colab": {
      "provenance": [],
      "authorship_tag": "ABX9TyNQrRZAlTgCs4rLCeuaaZ8w",
      "include_colab_link": true
    },
    "kernelspec": {
      "name": "python3",
      "display_name": "Python 3"
    },
    "language_info": {
      "name": "python"
    }
  },
  "cells": [
    {
      "cell_type": "markdown",
      "metadata": {
        "id": "view-in-github",
        "colab_type": "text"
      },
      "source": [
        "<a href=\"https://colab.research.google.com/github/julianapvh/projeto_individual_modulo_05/blob/main/projeto_individual_modulo_05.ipynb\" target=\"_parent\"><img src=\"https://colab.research.google.com/assets/colab-badge.svg\" alt=\"Open In Colab\"/></a>"
      ]
    },
    {
      "cell_type": "code",
      "source": [
        "from IPython.display import Markdown"
      ],
      "metadata": {
        "id": "mZA2eCbcZFLb"
      },
      "execution_count": 40,
      "outputs": []
    },
    {
      "cell_type": "markdown",
      "source": [
        "# <font color = orange> **_Projeto Individual Módulo 05_**"
      ],
      "metadata": {
        "id": "WFpcytXGVAsu"
      }
    },
    {
      "cell_type": "markdown",
      "source": [
        "# <font color = orange> **_CONTEXTO_**\n",
        "\n",
        "####Você foi contratado como analista de dados e seu chefe, o Chief Marketing Officer (CMO), pediu que você trabalhasse com seu Parceiro de Negócios de Recursos Humanos (HRBP) para entender o que está causando o atrito – pessoas deixando a empresa – em totoda a organização de marketing e apresentar suas descobertas.\n",
        "\n",
        "#### Seu HRBP analisa os dados e envia por e-mail a seguinte visualização:\n",
        "\n",
        "- Razões para saída\n",
        "- Treinamento\n",
        "- Conflito com outros\n",
        "- Falta de reconhecimento\n",
        "- Carga horária\n",
        "- Progressão de carreira\n",
        "- Remuneração\n",
        "- Tipo de trabalho\n",
        "- Mudança de carreira\n",
        "- Trajeto\n",
        "- Realocação\n",
        "- Doença\n",
        "\n",
        "\n",
        "# <font color = orange> **O QUE É PARA FAZER?**\n",
        "\n",
        "####Você deve criar um ou mais dashboards, com o Tableau, identificando as razões de saída dos funcionários da empresa e seus impactos, e indicando possíveis soluções para esses problemas.\n",
        "\n",
        "\n",
        "# <font color = orange> **COMO FAZER?**\n",
        "\n",
        "#### Se familiarize com a ferramenta Tableau e seus recursos-chave, para então realizar a importação e preparação de dados para análise. Siga os passos:\n",
        "\n",
        "- link = \"[Os dados para o desenvolvimento do projeto está nesse link](https://docs.google.com/spreadsheets/d/16pyFQ9Bb1moX9I7kbj6Q3Vx9wkeOK7CB/edit#gid=437389207)\"\n",
        "- Importe o conjunto de dados para o Tableau;\n",
        "- Realize, se necessário, as etapas necessárias de limpeza, transformação e\n",
        "modelagem dos dados para prepará-los para análise;\n",
        "- Utilize recursos gráficos e de visualização do Tableau para criar visualizações\n",
        "interativas que representam os dados de forma clara e informativa;\n",
        "- Crie painéis de controle (dashboards) para acompanhar métricas-chave e\n",
        "identificar insights relevantes;\n",
        "- Crie relatórios interativos e atraentes, incorporando as visualizações e insights\n",
        "obtidos;\n",
        "- Prepare uma narrativa clara e concisa que conte a história dos dados e forneça\n",
        "recomendações e conclusões baseadas nas análises realizadas;\n",
        "- Documente todo o processo de análise e as etapas realizadas.\n",
        "\n",
        "### Requisitos\n",
        "\n",
        "- Utilizar o Tableau.\n",
        "- Realizar a limpeza dos dados, se necessário;\n",
        "- Realizar análise exploratória;\n",
        "- Gerar, no mínimo, três (3) gráficos para a apresentação dos resultados;\n",
        "- Apresentar, no mínimo, dois (2) insights relevantes e conclusões fundamentadas com base\n",
        "nas análises realizadas.\n",
        "- O projeto precisa possuir uma evidência de entrega, ou seja, um pequeno parágrafo com\n",
        "uma explicação do que foi feito no projeto e a defesa das escolhas tomadas.\n",
        "\n",
        "\n",
        "\n",
        "\n",
        "\n",
        "\n",
        "\n",
        "\n",
        "\n"
      ],
      "metadata": {
        "id": "G3FWQK0WVDCw"
      }
    },
    {
      "cell_type": "markdown",
      "source": [
        "from IPython.display import Markdown"
      ],
      "metadata": {
        "id": "cK8kIIg9Y86r"
      }
    }
  ]
}